{
  "nbformat": 4,
  "nbformat_minor": 0,
  "metadata": {
    "colab": {
      "provenance": [],
      "authorship_tag": "ABX9TyPtD/jJhouAMfGJQcZcd8IY",
      "include_colab_link": true
    },
    "kernelspec": {
      "name": "python3",
      "display_name": "Python 3"
    },
    "language_info": {
      "name": "python"
    }
  },
  "cells": [
    {
      "cell_type": "markdown",
      "metadata": {
        "id": "view-in-github",
        "colab_type": "text"
      },
      "source": [
        "<a href=\"https://colab.research.google.com/github/Meg199602/Meghana_NYU-Data-Science-Bootcamp/blob/main/Meghana_DataScienceWeek01.ipynb\" target=\"_parent\"><img src=\"https://colab.research.google.com/assets/colab-badge.svg\" alt=\"Open In Colab\"/></a>"
      ]
    },
    {
      "cell_type": "markdown",
      "source": [
        "1) Display Fibonacci Series upto 10 terms."
      ],
      "metadata": {
        "id": "NZF_dJoXWssp"
      }
    },
    {
      "cell_type": "code",
      "source": [
        "a = 0\n",
        "b = 1\n",
        "for n in range(10):\n",
        "  print (a)\n",
        "  c = a+b\n",
        "  a = b\n",
        "  b = c"
      ],
      "metadata": {
        "colab": {
          "base_uri": "https://localhost:8080/"
        },
        "id": "bKRZrFtuamyM",
        "outputId": "99ec9ea2-c20a-4a38-be6f-3fdfe2e101d7"
      },
      "execution_count": 2,
      "outputs": [
        {
          "output_type": "stream",
          "name": "stdout",
          "text": [
            "0\n",
            "1\n",
            "1\n",
            "2\n",
            "3\n",
            "5\n",
            "8\n",
            "13\n",
            "21\n",
            "34\n"
          ]
        }
      ]
    },
    {
      "cell_type": "markdown",
      "source": [
        "2) Display numbers at the odd indices of a list."
      ],
      "metadata": {
        "id": "ikG6gfQdjQII"
      }
    },
    {
      "cell_type": "code",
      "source": [
        "list = [22,43,25,67,23,89,45,54,99,234,357]\n",
        "print(list[1::2])"
      ],
      "metadata": {
        "colab": {
          "base_uri": "https://localhost:8080/"
        },
        "id": "aoUhuY_Kl8m5",
        "outputId": "d99e92a3-32ff-4f8b-a25c-40d6f5a0e788"
      },
      "execution_count": 5,
      "outputs": [
        {
          "output_type": "stream",
          "name": "stdout",
          "text": [
            "[43, 67, 89, 54, 234]\n"
          ]
        }
      ]
    },
    {
      "cell_type": "markdown",
      "source": [
        "3) Print a list in reverse order\n"
      ],
      "metadata": {
        "id": "AU_BtwytmF3V"
      }
    },
    {
      "cell_type": "code",
      "source": [
        "reverse_list = list[::-1]\n",
        "print(reverse_list)"
      ],
      "metadata": {
        "colab": {
          "base_uri": "https://localhost:8080/"
        },
        "id": "dOCcmjLxmLJo",
        "outputId": "02aee0ac-ee0e-4ea8-dfd2-b34e025428a4"
      },
      "execution_count": 6,
      "outputs": [
        {
          "output_type": "stream",
          "name": "stdout",
          "text": [
            "[357, 234, 99, 54, 45, 89, 23, 67, 25, 43, 22]\n"
          ]
        }
      ]
    },
    {
      "cell_type": "markdown",
      "source": [
        "4) Your task is to count the number of different words in this text"
      ],
      "metadata": {
        "id": "6aZ9HkPmnHuY"
      }
    },
    {
      "cell_type": "code",
      "source": [
        "string = \"\"\" ChatGPT has created this text to provide tips on creating interesting paragraphs.\n",
        "\tFirst, start with a clear topic sentence that introduces the main idea.\n",
        "\tThen, support the topic sentence with specific details, examples, and evidence.\n",
        "\tVary the sentence length and structure to keep the reader engaged.\n",
        "\tFinally, end with a strong concluding sentence that summarizes the main points.\n",
        "\tRemember, practice makes perfect! \"\"\"\n",
        "\n",
        "list = []\n",
        "#list = append(string.split())\n",
        "list = string.split()\n",
        "print(list)\n",
        "word_count = len(list)\n",
        "print(\"This string has\",word_count,\"words\")"
      ],
      "metadata": {
        "colab": {
          "base_uri": "https://localhost:8080/"
        },
        "id": "NN_bP9vfnMnJ",
        "outputId": "c0d0cf18-2f06-48d9-b9ae-f545442873ba"
      },
      "execution_count": 15,
      "outputs": [
        {
          "output_type": "stream",
          "name": "stdout",
          "text": [
            "['ChatGPT', 'has', 'created', 'this', 'text', 'to', 'provide', 'tips', 'on', 'creating', 'interesting', 'paragraphs.', 'First,', 'start', 'with', 'a', 'clear', 'topic', 'sentence', 'that', 'introduces', 'the', 'main', 'idea.', 'Then,', 'support', 'the', 'topic', 'sentence', 'with', 'specific', 'details,', 'examples,', 'and', 'evidence.', 'Vary', 'the', 'sentence', 'length', 'and', 'structure', 'to', 'keep', 'the', 'reader', 'engaged.', 'Finally,', 'end', 'with', 'a', 'strong', 'concluding', 'sentence', 'that', 'summarizes', 'the', 'main', 'points.', 'Remember,', 'practice', 'makes', 'perfect!']\n",
            "This string has 62 words\n"
          ]
        }
      ]
    },
    {
      "cell_type": "markdown",
      "source": [
        "5) Write a function that takes a word as an argument and returns the number of vowels in the word\n"
      ],
      "metadata": {
        "id": "Rz3Tda6Ysvlz"
      }
    },
    {
      "cell_type": "code",
      "source": [
        "\n",
        "def vowel_count(word):\n",
        "  vowels = [\"a\",\"e\",\"i\",\"o\",\"u\",\"A\",\"E\",\"I\",\"O\",\"U\"]\n",
        "  v_count = 0\n",
        "  for letter in word:\n",
        "    if letter in vowels:\n",
        "      v_count += 1\n",
        "  return v_count\n",
        "\n",
        "word = input(\"Enter a word: \")\n",
        "#print(word)\n",
        "no_of_vowels = vowel_count(word)\n",
        "print(\"There are\",no_of_vowels,\"vowels in\",word)\n"
      ],
      "metadata": {
        "colab": {
          "base_uri": "https://localhost:8080/"
        },
        "id": "4SdUvdAjs6Yr",
        "outputId": "6cbf558f-09e5-45cc-c57b-4a7d98409712"
      },
      "execution_count": 46,
      "outputs": [
        {
          "output_type": "stream",
          "name": "stdout",
          "text": [
            "Enter a word: bigger\n",
            "There are 2 vowels in bigger\n"
          ]
        }
      ]
    },
    {
      "cell_type": "markdown",
      "source": [
        "6) Iterate through the following list of animals and print each one in all caps.\n",
        "\n",
        "  animals=['tiger', 'elephant', 'monkey', 'zebra', 'panther']"
      ],
      "metadata": {
        "id": "RoiU0u5PLzPN"
      }
    },
    {
      "cell_type": "code",
      "source": [
        "animals = ['tiger','elephant','monkey','zebra','panther']\n",
        "for x in animals:\n",
        "  print(x.upper())"
      ],
      "metadata": {
        "colab": {
          "base_uri": "https://localhost:8080/"
        },
        "id": "51xWqNcQL51e",
        "outputId": "ef667e58-fd6a-47f8-dec0-abde2bcd8ac9"
      },
      "execution_count": 49,
      "outputs": [
        {
          "output_type": "stream",
          "name": "stdout",
          "text": [
            "TIGER\n",
            "ELEPHANT\n",
            "MONKEY\n",
            "ZEBRA\n",
            "PANTHER\n"
          ]
        }
      ]
    },
    {
      "cell_type": "markdown",
      "source": [
        "7) Iterate from 1 to 15, printing whether the number is odd or even"
      ],
      "metadata": {
        "id": "g-ZtJzIHNPJu"
      }
    },
    {
      "cell_type": "code",
      "source": [
        "for x in range(16):\n",
        "  if x>0:\n",
        "    if x%2==0:\n",
        "     print(x,\"is even\")\n",
        "    else:\n",
        "     print(x,\"is odd\")"
      ],
      "metadata": {
        "colab": {
          "base_uri": "https://localhost:8080/"
        },
        "id": "VRcVZwVKNTlc",
        "outputId": "eb5260f1-555e-44b6-d0c8-513f18596c7a"
      },
      "execution_count": 54,
      "outputs": [
        {
          "output_type": "stream",
          "name": "stdout",
          "text": [
            "1 is odd\n",
            "2 is even\n",
            "3 is odd\n",
            "4 is even\n",
            "5 is odd\n",
            "6 is even\n",
            "7 is odd\n",
            "8 is even\n",
            "9 is odd\n",
            "10 is even\n",
            "11 is odd\n",
            "12 is even\n",
            "13 is odd\n",
            "14 is even\n",
            "15 is odd\n"
          ]
        }
      ]
    },
    {
      "cell_type": "markdown",
      "source": [
        "8) Take two integers as input from user and return the sum."
      ],
      "metadata": {
        "id": "Isdt7TJWOLCS"
      }
    },
    {
      "cell_type": "code",
      "source": [
        "sum = 0\n",
        "a = int(input(\"Enter the first number: \"))\n",
        "b = int(input(\"Enter the second number: \"))\n",
        "\n",
        "sum = a + b\n",
        "print(\"The sum of the two numbers is\", sum)"
      ],
      "metadata": {
        "colab": {
          "base_uri": "https://localhost:8080/"
        },
        "id": "ouYLyKCSORAk",
        "outputId": "dfd073ae-7a60-4290-a7cd-95c41a82bec4"
      },
      "execution_count": 63,
      "outputs": [
        {
          "output_type": "stream",
          "name": "stdout",
          "text": [
            "Enter the first number: 4566\n",
            "Enter the second number: 456788\n",
            "The sum of the two numbers is 461354\n"
          ]
        }
      ]
    }
  ]
}